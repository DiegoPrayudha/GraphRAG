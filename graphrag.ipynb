{
 "cells": [
  {
   "cell_type": "code",
   "execution_count": 1,
   "metadata": {},
   "outputs": [
    {
     "name": "stdout",
     "output_type": "stream",
     "text": [
      "Hello World\n"
     ]
    }
   ],
   "source": [
    "print(\"Hello World\")"
   ]
  },
  {
   "cell_type": "code",
   "execution_count": null,
   "metadata": {},
   "outputs": [],
   "source": [
    "import os\n",
    "from langchain_community.graphs import Neo4jGraph\n",
    "from langchain_groq import ChatGroq\n",
    "from langchain_core.documents import Document\n",
    "from langchain_experimental.graph_transformers import LLMGraphTransformer\n",
    "from langchain.chains import GraphCypherQAChain"
   ]
  },
  {
   "cell_type": "code",
   "execution_count": null,
   "metadata": {},
   "outputs": [],
   "source": [
    "load_dotenv(\".env\")\n",
    "api_key = os.getenv(\"API_KEY\")\n",
    "NEO4J_URI = os.getenv(\"NEO4J_URI\")\n",
    "NEO4J_USERNAME = os.getenv(\"NEO4J_USER\")\n",
    "NEO4J_PASSWORD = os.getenv(\"NEO4J_PASSWORD\")"
   ]
  },
  {
   "cell_type": "code",
   "execution_count": null,
   "metadata": {},
   "outputs": [],
   "source": [
    "os.environ[\"NEO4J_URI\"]=NEO4J_URI\n",
    "os.environ[\"NEO4J_USERNAME\"]=NEO4J_USERNAME\n",
    "os.environ[\"NEO4J_PASSWORD\"]=NEO4J_PASSWORD"
   ]
  },
  {
   "cell_type": "markdown",
   "metadata": {},
   "source": [
    "## **Setup Neo4j**"
   ]
  },
  {
   "cell_type": "code",
   "execution_count": null,
   "metadata": {},
   "outputs": [],
   "source": [
    "graph=Neo4jGraph(\n",
    "    url=NEO4J_URI,\n",
    "    username=NEO4J_USERNAME,\n",
    "    password=NEO4J_PASSWORD,\n",
    ")"
   ]
  },
  {
   "cell_type": "markdown",
   "metadata": {},
   "source": [
    "## **Load LLM from Groq**"
   ]
  },
  {
   "cell_type": "code",
   "execution_count": null,
   "metadata": {},
   "outputs": [],
   "source": [
    "llm=ChatGroq(groq_api_key=groq_api_key,model_name=\"llama-3.1-8b-instant\")"
   ]
  },
  {
   "cell_type": "markdown",
   "metadata": {},
   "source": [
    "## **Insert data into GraphDB**"
   ]
  },
  {
   "cell_type": "code",
   "execution_count": null,
   "metadata": {},
   "outputs": [],
   "source": [
    "text=\"\"\"\n",
    "Soekarno (born June 6, 1901 – June 21, 1970) was the first President of Indonesia, serving from 1945 to 1967. \n",
    "He played a pivotal role in the country's struggle for independence from the Netherlands and is considered one \n",
    "of the most important figures in Indonesian history. Soekarno was a charismatic orator and leader, known for \n",
    "his vision of a united Indonesia based on the principles of Pancasila, which he introduced as the ideological \n",
    "foundation of the state.\n",
    "\n",
    "Born in Surabaya, Soekarno was educated in Dutch schools and later attended the Technische Hoogeschool \n",
    "(now Bandung Institute of Technology), where he studied civil engineering. During his studies, he became \n",
    "active in nationalist movements and began advocating for Indonesian independence.\n",
    "\n",
    "In 1945, Soekarno, along with Mohammad Hatta, proclaimed Indonesia's independence. As president, he \n",
    "sought to unify the diverse archipelago under a single government. However, his presidency faced numerous \n",
    "challenges, including political instability, economic difficulties, and regional rebellions. In 1965, a coup \n",
    "attempt led to significant changes in Indonesia's political landscape, eventually resulting in Soekarno's \n",
    "departure from power and the rise of Suharto.\n",
    "\n",
    "Despite his controversial later years, Soekarno remains a revered figure in Indonesia, celebrated as the \n",
    "\"Proclaimer of Independence\" and a symbol of national unity and resilience.\n",
    " \"\"\"\n",
    "documents=[Document(page_content=text)]\n",
    "documents"
   ]
  },
  {
   "cell_type": "code",
   "execution_count": null,
   "metadata": {},
   "outputs": [],
   "source": [
    "llm_transformer=LLMGraphTransformer(llm=llm)"
   ]
  },
  {
   "cell_type": "code",
   "execution_count": null,
   "metadata": {},
   "outputs": [],
   "source": [
    "graph_documents=llm_transformer.convert_to_graph_documents(documents)"
   ]
  },
  {
   "cell_type": "code",
   "execution_count": null,
   "metadata": {},
   "outputs": [],
   "source": [
    "# graph_documents\n",
    "graph_documents[0].nodes\n",
    "#graph_documents[0].relationships"
   ]
  },
  {
   "cell_type": "code",
   "execution_count": null,
   "metadata": {},
   "outputs": [],
   "source": [
    "for doc in graph_documents:\n",
    "    # Insert nodes\n",
    "    for node in doc.nodes:\n",
    "        query = f\"\"\"\n",
    "        MERGE (n:{node['type']} {{id: $id}})\n",
    "        SET n += $properties\n",
    "        \"\"\"\n",
    "        graph.run_query(query, parameters={\"id\": node['id'], \"properties\": node['properties']})\n",
    "\n",
    "    # Insert relationships\n",
    "    for relationship in doc.relationships:\n",
    "        query = f\"\"\"\n",
    "        MATCH (a {{id: $start_node_id}})\n",
    "        MATCH (b {{id: $end_node_id}})\n",
    "        MERGE (a)-[r:{relationship['type']}]->(b)\n",
    "        SET r += $properties\n",
    "        \"\"\"\n",
    "        graph.run_query(\n",
    "            query,\n",
    "            parameters={\n",
    "                \"start_node_id\": relationship['source']['id'],\n",
    "                \"end_node_id\": relationship['target']['id'],\n",
    "                \"properties\": relationship['properties'],\n",
    "            },\n",
    "        )"
   ]
  },
  {
   "cell_type": "markdown",
   "metadata": {},
   "source": [
    "## **GraphRAG using Langchain**"
   ]
  },
  {
   "cell_type": "code",
   "execution_count": null,
   "metadata": {},
   "outputs": [],
   "source": [
    "chain=GraphCypherQAChain.from_llm(llm=llm,\n",
    "                                 graph=graph,\n",
    "                                 verbose=True,\n",
    "                                 top_k=5,\n",
    "                                 allow_dangerous_requests=True # Add this line to acknowledge the risk\n",
    "                                )"
   ]
  },
  {
   "cell_type": "code",
   "execution_count": null,
   "metadata": {},
   "outputs": [],
   "source": [
    "response=chain.invoke({\"query\":\"Who is Soekarno?\"})\n",
    "\n",
    "response"
   ]
  }
 ],
 "metadata": {
  "kernelspec": {
   "display_name": "Python 3",
   "language": "python",
   "name": "python3"
  },
  "language_info": {
   "codemirror_mode": {
    "name": "ipython",
    "version": 3
   },
   "file_extension": ".py",
   "mimetype": "text/x-python",
   "name": "python",
   "nbconvert_exporter": "python",
   "pygments_lexer": "ipython3",
   "version": "3.10.11"
  }
 },
 "nbformat": 4,
 "nbformat_minor": 2
}
