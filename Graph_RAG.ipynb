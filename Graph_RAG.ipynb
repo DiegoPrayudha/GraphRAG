{
  "cells": [
    {
      "cell_type": "code",
      "execution_count": 5,
      "metadata": {
        "id": "V-KLWA4-TKqE"
      },
      "outputs": [],
      "source": [
        "import os\n",
        "\n",
        "from langchain_neo4j import GraphCypherQAChain, Neo4jGraph\n",
        "from langchain_groq import ChatGroq\n",
        "from langchain_core.documents import Document\n",
        "from langchain_experimental.graph_transformers import LLMGraphTransformer\n",
        "\n",
        "from dotenv import load_dotenv"
      ]
    },
    {
      "cell_type": "code",
      "execution_count": 6,
      "metadata": {
        "id": "oyeLwZsyXPdv"
      },
      "outputs": [],
      "source": [
        "load_dotenv(\".env\")\n",
        "groq_api_key = os.getenv(\"API_KEY\")\n",
        "NEO4J_URI = os.getenv(\"NEO4J_URI\")\n",
        "NEO4J_USERNAME = os.getenv(\"NEO4J_USERNAME\")\n",
        "NEO4J_PASSWORD = os.getenv(\"NEO4J_PASSWORD\")"
      ]
    },
    {
      "cell_type": "markdown",
      "metadata": {
        "id": "YNXpAhvyVIJv"
      },
      "source": [
        "# **Setup Neo4j**"
      ]
    },
    {
      "cell_type": "code",
      "execution_count": 8,
      "metadata": {
        "id": "zsRhF_n4ng9g"
      },
      "outputs": [],
      "source": [
        "graph=Neo4jGraph(\n",
        "    url=NEO4J_URI,\n",
        "    username=NEO4J_USERNAME,\n",
        "    password=NEO4J_PASSWORD,\n",
        ")"
      ]
    },
    {
      "cell_type": "markdown",
      "metadata": {
        "id": "C8OOHBVIVSm8"
      },
      "source": [
        "# **Load LLM from Groq**"
      ]
    },
    {
      "cell_type": "code",
      "execution_count": 9,
      "metadata": {
        "id": "pfT0OvXZVSa1"
      },
      "outputs": [],
      "source": [
        "llm=ChatGroq(groq_api_key=groq_api_key,model_name=\"llama-3.1-8b-instant\")"
      ]
    },
    {
      "cell_type": "markdown",
      "metadata": {
        "id": "FTrM2xkfngY7"
      },
      "source": [
        "# **Insert Data to GraphDB**"
      ]
    },
    {
      "cell_type": "code",
      "execution_count": 10,
      "metadata": {
        "colab": {
          "base_uri": "https://localhost:8080/"
        },
        "id": "FmqLUbGHYTQs",
        "outputId": "cca73c4c-acb5-4a99-f3f0-642e2787a29d"
      },
      "outputs": [
        {
          "data": {
            "text/plain": [
              "[Document(metadata={}, page_content='\\nSoekarno (born June 6, 1901 – June 21, 1970) was the first President of Indonesia, serving from 1945 to 1967. \\nHe played a pivotal role in the country\\'s struggle for independence from the Netherlands and is considered one \\nof the most important figures in Indonesian history. Soekarno was a charismatic orator and leader, known for \\nhis vision of a united Indonesia based on the principles of Pancasila, which he introduced as the ideological \\nfoundation of the state.\\n\\nBorn in Surabaya, Soekarno was educated in Dutch schools and later attended the Technische Hoogeschool \\n(now Bandung Institute of Technology), where he studied civil engineering. During his studies, he became \\nactive in nationalist movements and began advocating for Indonesian independence.\\n\\nIn 1945, Soekarno, along with Mohammad Hatta, proclaimed Indonesia\\'s independence. As president, he \\nsought to unify the diverse archipelago under a single government. However, his presidency faced numerous \\nchallenges, including political instability, economic difficulties, and regional rebellions. In 1965, a coup \\nattempt led to significant changes in Indonesia\\'s political landscape, eventually resulting in Soekarno\\'s \\ndeparture from power and the rise of Suharto.\\n\\nDespite his controversial later years, Soekarno remains a revered figure in Indonesia, celebrated as the \\n\"Proclaimer of Independence\" and a symbol of national unity and resilience.\\n ')]"
            ]
          },
          "execution_count": 10,
          "metadata": {},
          "output_type": "execute_result"
        }
      ],
      "source": [
        "text=\"\"\"\n",
        "Soekarno (born June 6, 1901 – June 21, 1970) was the first President of Indonesia, serving from 1945 to 1967.\n",
        "He played a pivotal role in the country's struggle for independence from the Netherlands and is considered one\n",
        "of the most important figures in Indonesian history. Soekarno was a charismatic orator and leader, known for\n",
        "his vision of a united Indonesia based on the principles of Pancasila, which he introduced as the ideological\n",
        "foundation of the state.\n",
        "\n",
        "Born in Surabaya, Soekarno was educated in Dutch schools and later attended the Technische Hoogeschool\n",
        "(now Bandung Institute of Technology), where he studied civil engineering. During his studies, he became\n",
        "active in nationalist movements and began advocating for Indonesian independence.\n",
        "\n",
        "In 1945, Soekarno, along with Mohammad Hatta, proclaimed Indonesia's independence. As president, he\n",
        "sought to unify the diverse archipelago under a single government. However, his presidency faced numerous\n",
        "challenges, including political instability, economic difficulties, and regional rebellions. In 1965, a coup\n",
        "attempt led to significant changes in Indonesia's political landscape, eventually resulting in Soekarno's\n",
        "departure from power and the rise of Suharto.\n",
        "\n",
        "Despite his controversial later years, Soekarno remains a revered figure in Indonesia, celebrated as the\n",
        "\"Proclaimer of Independence\" and a symbol of national unity and resilience.\n",
        " \"\"\"\n",
        "documents=[Document(page_content=text)]\n",
        "documents"
      ]
    },
    {
      "cell_type": "code",
      "execution_count": 11,
      "metadata": {
        "id": "9pW7atV6YWcT"
      },
      "outputs": [],
      "source": [
        "llm_transformer=LLMGraphTransformer(llm=llm)"
      ]
    },
    {
      "cell_type": "code",
      "execution_count": 12,
      "metadata": {
        "id": "dCis_L_cYYp4"
      },
      "outputs": [],
      "source": [
        "graph_documents=llm_transformer.convert_to_graph_documents(documents)"
      ]
    },
    {
      "cell_type": "code",
      "execution_count": 13,
      "metadata": {
        "colab": {
          "base_uri": "https://localhost:8080/"
        },
        "id": "FdSdtNqNYa3U",
        "outputId": "293f944d-964c-4070-b172-da6c09ae7ee0"
      },
      "outputs": [
        {
          "data": {
            "text/plain": [
              "[Node(id='Soekarno', type='Person', properties={}),\n",
              " Node(id='Indonesia', type='Country', properties={}),\n",
              " Node(id='Surabaya', type='City', properties={}),\n",
              " Node(id='Netherlands', type='Country', properties={}),\n",
              " Node(id='Pancasila', type='Ideology', properties={}),\n",
              " Node(id='Mohammad Hatta', type='Person', properties={}),\n",
              " Node(id='Bandung Institute Of Technology', type='University', properties={}),\n",
              " Node(id='Suharto', type='Person', properties={})]"
            ]
          },
          "execution_count": 13,
          "metadata": {},
          "output_type": "execute_result"
        }
      ],
      "source": [
        "# graph_documents\n",
        "graph_documents[0].nodes\n"
      ]
    },
    {
      "cell_type": "code",
      "execution_count": 16,
      "metadata": {
        "colab": {
          "base_uri": "https://localhost:8080/"
        },
        "id": "jPszcTzqZ7eQ",
        "outputId": "960f3632-6ef3-4946-807f-65a8d2957414"
      },
      "outputs": [
        {
          "data": {
            "text/plain": [
              "[Relationship(source=Node(id='Soekarno', type='Person', properties={}), target=Node(id='Indonesia', type='Country', properties={}), type='PRESIDENT_OF', properties={}),\n",
              " Relationship(source=Node(id='Soekarno', type='Person', properties={}), target=Node(id='Netherlands', type='Country', properties={}), type='LED_STRUGGLE_FOR_INDEPENDENCE_FROM', properties={}),\n",
              " Relationship(source=Node(id='Soekarno', type='Person', properties={}), target=Node(id='Pancasila', type='Ideology', properties={}), type='INTRODUCED', properties={}),\n",
              " Relationship(source=Node(id='Soekarno', type='Person', properties={}), target=Node(id='Mohammad Hatta', type='Person', properties={}), type='PROCLAIMED_INDEPENDENCE_WITH', properties={}),\n",
              " Relationship(source=Node(id='Soekarno', type='Person', properties={}), target=Node(id='Surabaya', type='City', properties={}), type='BORN_IN', properties={}),\n",
              " Relationship(source=Node(id='Soekarno', type='Person', properties={}), target=Node(id='Bandung Institute Of Technology', type='University', properties={}), type='EDUCATED_AT', properties={}),\n",
              " Relationship(source=Node(id='Soekarno', type='Person', properties={}), target=Node(id='Suharto', type='Person', properties={}), type='PRECEDED_BY_IN_POWER', properties={}),\n",
              " Relationship(source=Node(id='Indonesia', type='Country', properties={}), target=Node(id='Suharto', type='Person', properties={}), type='HAD_LEADERSHIP_OF', properties={})]"
            ]
          },
          "execution_count": 16,
          "metadata": {},
          "output_type": "execute_result"
        }
      ],
      "source": [
        "graph_documents[0].relationships"
      ]
    },
    {
      "cell_type": "code",
      "execution_count": 17,
      "metadata": {
        "id": "i295gUNXcFQW"
      },
      "outputs": [],
      "source": [
        "graph.add_graph_documents(graph_documents)"
      ]
    },
    {
      "cell_type": "code",
      "execution_count": 34,
      "metadata": {
        "colab": {
          "base_uri": "https://localhost:8080/"
        },
        "id": "hI-Wnc7RhUzt",
        "outputId": "b17234cb-6654-4a2d-8006-8a1ba0d0d956"
      },
      "outputs": [
        {
          "name": "stdout",
          "output_type": "stream",
          "text": [
            "Node properties:\n",
            "Person {id: STRING}\n",
            "Country {id: STRING}\n",
            "City {id: STRING}\n",
            "Ideology {id: STRING}\n",
            "University {id: STRING}\n",
            "Relationship properties:\n",
            "\n",
            "The relationships:\n",
            "(:Person)-[:PRESIDENT_OF]->(:Country)\n",
            "(:Person)-[:LED_STRUGGLE_FOR_INDEPENDENCE_FROM]->(:Country)\n",
            "(:Person)-[:INTRODUCED]->(:Ideology)\n",
            "(:Person)-[:PROCLAIMED_INDEPENDENCE_WITH]->(:Person)\n",
            "(:Person)-[:BORN_IN]->(:City)\n",
            "(:Person)-[:EDUCATED_AT]->(:University)\n",
            "(:Person)-[:PRECEDED_BY_IN_POWER]->(:Person)\n",
            "(:Country)-[:HAD_LEADERSHIP_OF]->(:Person)\n"
          ]
        }
      ],
      "source": [
        "graph.refresh_schema()\n",
        "print(graph.schema)"
      ]
    },
    {
      "cell_type": "markdown",
      "metadata": {
        "id": "f3FHUq7znr4i"
      },
      "source": [
        "# **GraphRAG - Langchain**"
      ]
    },
    {
      "cell_type": "code",
      "execution_count": 35,
      "metadata": {
        "id": "pKjnA3fKnrSO"
      },
      "outputs": [],
      "source": [
        "chain=GraphCypherQAChain.from_llm(llm=llm,\n",
        "                                 graph=graph,\n",
        "                                 verbose=True,\n",
        "                                 top_k=10,\n",
        "                                 allow_dangerous_requests=True # Add this line to acknowledge the risk\n",
        "                                )"
      ]
    },
    {
      "cell_type": "code",
      "execution_count": 37,
      "metadata": {
        "colab": {
          "base_uri": "https://localhost:8080/"
        },
        "id": "BKSaXSiynrg_",
        "outputId": "e66b1627-ae30-4adf-cb65-211e96a83024"
      },
      "outputs": [
        {
          "name": "stdout",
          "output_type": "stream",
          "text": [
            "\n",
            "\n",
            "\u001b[1m> Entering new GraphCypherQAChain chain...\u001b[0m\n",
            "Generated Cypher:\n",
            "\u001b[32;1m\u001b[1;3mMATCH (soekarno:Person {id: 'Soekarno'})-[:PRESIDENT_OF]->(country:Country) RETURN country\u001b[0m\n",
            "Full Context:\n",
            "\u001b[32;1m\u001b[1;3m[{'country': {'id': 'Indonesia'}}]\u001b[0m\n",
            "\n",
            "\u001b[1m> Finished chain.\u001b[0m\n"
          ]
        },
        {
          "data": {
            "text/plain": [
              "{'query': 'Soekarno is President of ?',\n",
              " 'result': 'Soekarno is President of Indonesia.'}"
            ]
          },
          "execution_count": 37,
          "metadata": {},
          "output_type": "execute_result"
        }
      ],
      "source": [
        "response=chain.invoke({\"query\":\"Soekarno is President of ?\"})\n",
        "\n",
        "response\n"
      ]
    },
    {
      "cell_type": "code",
      "execution_count": 41,
      "metadata": {
        "colab": {
          "base_uri": "https://localhost:8080/"
        },
        "id": "MH1YPlgyhr4Z",
        "outputId": "470ab50f-708d-4e0d-f8f3-339d3c5455e2"
      },
      "outputs": [
        {
          "name": "stdout",
          "output_type": "stream",
          "text": [
            "\n",
            "\n",
            "\u001b[1m> Entering new GraphCypherQAChain chain...\u001b[0m\n",
            "Generated Cypher:\n",
            "\u001b[32;1m\u001b[1;3mMATCH (p:Person {id: \"Soekarno\"})-[:INTRODUCED]->(i:Ideology) RETURN i\u001b[0m\n",
            "Full Context:\n",
            "\u001b[32;1m\u001b[1;3m[{'i': {'id': 'Pancasila'}}]\u001b[0m\n",
            "\n",
            "\u001b[1m> Finished chain.\u001b[0m\n"
          ]
        },
        {
          "data": {
            "text/plain": [
              "{'query': 'What Ideology Soekarno introduced ?', 'result': 'Pancasila.'}"
            ]
          },
          "execution_count": 41,
          "metadata": {},
          "output_type": "execute_result"
        }
      ],
      "source": [
        "response=chain.invoke({\"query\":\"What Ideology Soekarno introduced ?\"})\n",
        "\n",
        "response"
      ]
    },
    {
      "cell_type": "code",
      "execution_count": 42,
      "metadata": {
        "colab": {
          "base_uri": "https://localhost:8080/"
        },
        "id": "ggAlLjHMiEtV",
        "outputId": "a6799f06-440f-4bb8-fbf2-d948d1f57b47"
      },
      "outputs": [
        {
          "name": "stdout",
          "output_type": "stream",
          "text": [
            "\n",
            "\n",
            "\u001b[1m> Entering new GraphCypherQAChain chain...\u001b[0m\n",
            "Generated Cypher:\n",
            "\u001b[32;1m\u001b[1;3mMATCH (p:Person {id: \"Soekarno\"})-[:BORN_IN]->(c:City) RETURN c\u001b[0m\n",
            "Full Context:\n",
            "\u001b[32;1m\u001b[1;3m[{'c': {'id': 'Surabaya'}}]\u001b[0m\n",
            "\n",
            "\u001b[1m> Finished chain.\u001b[0m\n"
          ]
        },
        {
          "data": {
            "text/plain": [
              "{'query': 'Where was Soekarno born?',\n",
              " 'result': 'Soekarno was born in Surabaya.'}"
            ]
          },
          "execution_count": 42,
          "metadata": {},
          "output_type": "execute_result"
        }
      ],
      "source": [
        "response=chain.invoke({\"query\":\"Where was Soekarno born?\"})\n",
        "\n",
        "response"
      ]
    }
  ],
  "metadata": {
    "accelerator": "GPU",
    "colab": {
      "gpuType": "T4",
      "provenance": []
    },
    "kernelspec": {
      "display_name": "Python 3",
      "name": "python3"
    },
    "language_info": {
      "name": "python"
    }
  },
  "nbformat": 4,
  "nbformat_minor": 0
}
